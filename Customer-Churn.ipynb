{
 "cells": [
  {
   "cell_type": "code",
   "execution_count": null,
   "id": "1d770458-ff4a-4d57-aee0-81b93371f8b3",
   "metadata": {},
   "outputs": [],
   "source": [
    "import pandas as pd\n",
    "import plotly.express as px\n",
    "import matplotlib.pyplot as plt\n",
    "import seaborn as sns\n",
    "from sklearn.compose import make_column_transformer\n",
    "from sklearn.preprocessing import OneHotEncoder\n",
    "from sklearn.model_selection import train_test_split\n",
    "from sklearn.tree import DecisionTreeClassifier\n",
    "from sklearn.tree import plot_tree\n",
    "from sklearn.metrics import confusion_matrix, ConfusionMatrixDisplay\n",
    "from imblearn.over_sampling import SMOTE\n",
    "from sklearn.metrics import classification_report\n",
    "from sklearn.ensemble import RandomForestClassifier\n",
    "from imblearn.pipeline import Pipeline as imbpipeline"
   ]
  },
  {
   "cell_type": "markdown",
   "id": "88dd2b5b-cd74-43ff-9f83-f7cc3d695c02",
   "metadata": {},
   "source": [
    "# Lendo os dados"
   ]
  },
  {
   "cell_type": "code",
   "execution_count": null,
   "id": "cab30010-8f4d-4d30-8a06-02417d13281c",
   "metadata": {},
   "outputs": [],
   "source": [
    "train = pd.read_csv('dataset.csv')"
   ]
  },
  {
   "cell_type": "code",
   "execution_count": null,
   "id": "946abdbf-1a06-48d9-bed3-1910ea88be40",
   "metadata": {},
   "outputs": [],
   "source": [
    "train.head()"
   ]
  },
  {
   "cell_type": "markdown",
   "id": "ea6a819f-703e-47c6-9bf0-5b6dfe0f60c7",
   "metadata": {},
   "source": [
    "# Verificando informações sobre os dados"
   ]
  },
  {
   "cell_type": "code",
   "execution_count": null,
   "id": "4fa9751f-ae73-49d7-869f-e8a265f9775d",
   "metadata": {},
   "outputs": [],
   "source": [
    "# Verificando algumas informações sobre o dataset\n",
    "train.info()"
   ]
  },
  {
   "cell_type": "code",
   "execution_count": null,
   "id": "631e648e-3a31-4e1b-b456-bd00120df0cc",
   "metadata": {},
   "outputs": [],
   "source": [
    "# Verificando o número de linhas e colunas do dataset\n",
    "print(f'Número de linhas: {train.shape[0]}')\n",
    "print(f'Número de colunas: {train.shape[1]}')"
   ]
  },
  {
   "cell_type": "code",
   "execution_count": null,
   "id": "87ed0909-4cd4-402a-af41-4ff1cf4c6418",
   "metadata": {},
   "outputs": [],
   "source": [
    "# Verificando se há valores faltantes no dataset\n",
    "train.isnull().sum()"
   ]
  },
  {
   "cell_type": "code",
   "execution_count": null,
   "id": "d4bee2e2-6f2f-4d4d-b397-6833238881ca",
   "metadata": {},
   "outputs": [],
   "source": [
    "# Verificamos que há uma linha com valores nulos\n",
    "# Removendo a linha nula\n",
    "train = train.dropna()\n",
    "train.isnull().sum()"
   ]
  },
  {
   "cell_type": "code",
   "execution_count": null,
   "id": "9e80929f-b99f-4b4c-bae5-f9f84d735b10",
   "metadata": {},
   "outputs": [],
   "source": [
    "train.columns"
   ]
  },
  {
   "cell_type": "code",
   "execution_count": null,
   "id": "0eca0f48-ab8c-4fb9-a3c5-47bad64756ea",
   "metadata": {},
   "outputs": [],
   "source": [
    "train.head()"
   ]
  },
  {
   "cell_type": "code",
   "execution_count": null,
   "id": "11e29303-dbc9-4615-ae71-a4b9434b5b65",
   "metadata": {},
   "outputs": [],
   "source": [
    "train['Churn'].value_counts(normalize=True)"
   ]
  },
  {
   "cell_type": "markdown",
   "id": "8f12d416-9b6f-40fb-ac81-f2bfaf5adc3b",
   "metadata": {},
   "source": [
    "# EDA"
   ]
  },
  {
   "cell_type": "code",
   "execution_count": null,
   "id": "803de321-d0ac-4fe1-a23e-ebabd2eb5dbc",
   "metadata": {},
   "outputs": [],
   "source": [
    "# Removendo a variável \"CustomerID\"\n",
    "train = train.drop('CustomerID', axis=1)"
   ]
  },
  {
   "cell_type": "code",
   "execution_count": null,
   "id": "713e7d47-f56c-4be7-aa80-d0778ce4241b",
   "metadata": {},
   "outputs": [],
   "source": [
    "train.head()"
   ]
  },
  {
   "cell_type": "markdown",
   "id": "acca5450-e575-4b06-80fa-937ffa1070bd",
   "metadata": {},
   "source": [
    "## Variáveis categóricas"
   ]
  },
  {
   "cell_type": "markdown",
   "id": "23c30f6b-6b8e-4ae0-a9b4-588a852b0451",
   "metadata": {},
   "source": [
    "### Variável 'Churn'"
   ]
  },
  {
   "cell_type": "code",
   "execution_count": null,
   "id": "cb775e22-631f-4f86-a192-c7f14a2ab1c2",
   "metadata": {},
   "outputs": [],
   "source": [
    "plt.figure(figsize=(10,5))\n",
    "ax = sns.countplot(x='Churn', data=train)\n",
    "\n",
    "# Adicionando os valores acima da barra\n",
    "for p in ax.patches:\n",
    "    height = p.get_height()\n",
    "    ax.text(\n",
    "        x=p.get_x() + p.get_width() / 2,  # posição X central da barra\n",
    "        y=height + 5,                     # ligeiramente acima da barra\n",
    "        s=f'{int(height)}',               # valor a ser exibido\n",
    "        ha='center'                       # alinhamento horizontal\n",
    "    )\n",
    "\n",
    "# Adicionando titulo\n",
    "plt.title('Distribuição da variável \"Churn\"')\n",
    "plt.show()"
   ]
  },
  {
   "cell_type": "markdown",
   "id": "f593cbca-1d54-4686-bd37-16ea3b17dd5d",
   "metadata": {},
   "source": [
    "### Variável 'Gender'"
   ]
  },
  {
   "cell_type": "code",
   "execution_count": null,
   "id": "6ef7171b-1f30-42be-8e3e-a69af8e11e23",
   "metadata": {},
   "outputs": [],
   "source": [
    "fig = px.histogram(train, x='Gender', text_auto = True, color = 'Churn', barmode = 'group')\n",
    "# Adiciona o título\n",
    "fig.update_layout(title=\"Distribuição de Churn por Gênero\")"
   ]
  },
  {
   "cell_type": "markdown",
   "id": "10f5a402-2f85-4267-9248-2412ca9d8411",
   "metadata": {},
   "source": [
    "Visualizando o gráfico, vemos que mulheres têm uma maior taxa de churn em relação ao público masculino"
   ]
  },
  {
   "cell_type": "markdown",
   "id": "34fa3950-b3cd-44af-95cf-60c53b929492",
   "metadata": {},
   "source": [
    "### Variável 'Subscription Type'"
   ]
  },
  {
   "cell_type": "code",
   "execution_count": null,
   "id": "0abeb41c-4635-4e2f-af3e-5fafdb8efb80",
   "metadata": {},
   "outputs": [],
   "source": [
    "fig = px.histogram(train, x='Subscription Type', text_auto = True, color = 'Churn', barmode = 'group')\n",
    "# Adiciona o título\n",
    "fig.update_layout(title=\"Distribuição de Churn por Tipo de Inscrição\")"
   ]
  },
  {
   "cell_type": "markdown",
   "id": "52ffa746-2462-4475-88f1-c223947445dc",
   "metadata": {},
   "source": [
    "Pessoas que tem o plano \"Standard\" tendem a cancelarem mais o serviço."
   ]
  },
  {
   "cell_type": "markdown",
   "id": "22620503-9ce3-4786-8d82-8da79f627372",
   "metadata": {},
   "source": [
    "### Variável 'Contract Length'"
   ]
  },
  {
   "cell_type": "code",
   "execution_count": null,
   "id": "8c8833d0-f261-4d2e-8eea-6e8d8101f580",
   "metadata": {},
   "outputs": [],
   "source": [
    "fig = px.histogram(train, x='Contract Length', text_auto = True, color = 'Churn', barmode = 'group')\n",
    "# Adiciona o título\n",
    "fig.update_layout(title=\"Distribuição de Churn por Tipo de Contrato\")"
   ]
  },
  {
   "cell_type": "markdown",
   "id": "b9da5356-1dd2-4174-82bd-5bfad0d98aa1",
   "metadata": {},
   "source": [
    "- Pessoas com o tipo de contrato \"Monthly\" têm uma maior taxa de churn em relação aos outros planos.\n",
    "- É visualizado que no contrato \"Monthly\" não possui dados para pessoas que não cancelaram o serviço."
   ]
  },
  {
   "cell_type": "markdown",
   "id": "e588d03f-2d44-483e-8437-79289fae1712",
   "metadata": {},
   "source": [
    "## Variáveis numéricas"
   ]
  },
  {
   "cell_type": "markdown",
   "id": "48446bbe-3594-47af-a842-8ad7a25b4dae",
   "metadata": {},
   "source": [
    "### Variável 'Age'"
   ]
  },
  {
   "cell_type": "code",
   "execution_count": null,
   "id": "a9451a8d-ed8d-4105-ad1f-234648cccd40",
   "metadata": {},
   "outputs": [],
   "source": [
    "px.box(train, x = 'Age', color = 'Churn')"
   ]
  },
  {
   "cell_type": "markdown",
   "id": "fda4562f-8e40-4b4b-b4d1-4369bd56e9c5",
   "metadata": {},
   "source": [
    "- É verificado que a média de idade das pessoas que cancelam o serviço é maior das que não cancelam, mesmo que por pouca diferença."
   ]
  },
  {
   "cell_type": "code",
   "execution_count": null,
   "id": "b01ba95c-3663-4411-9259-eb6da969ebba",
   "metadata": {},
   "outputs": [],
   "source": [
    "plt.figure(figsize=(10,5))\n",
    "sns.histplot(train['Age'], bins=15)\n",
    "plt.title('Distribuição da Idade')\n",
    "plt.xlabel('Age')\n",
    "plt.show()"
   ]
  },
  {
   "cell_type": "markdown",
   "id": "108609c4-6a4b-485c-ab19-437e8362a0e5",
   "metadata": {},
   "source": [
    "- A idade entre 40 e 43 anos é a que tem maior número de pessoas com o serviço."
   ]
  },
  {
   "cell_type": "markdown",
   "id": "8b824f65-e884-4989-bb96-04cd848d1f97",
   "metadata": {},
   "source": [
    "### Variável 'Tenure'"
   ]
  },
  {
   "cell_type": "code",
   "execution_count": null,
   "id": "29e53d21-4f61-4ad5-897a-87728f745660",
   "metadata": {},
   "outputs": [],
   "source": [
    "px.box(train, x = 'Tenure', color = 'Churn')"
   ]
  },
  {
   "cell_type": "markdown",
   "id": "6ca6285e-d98c-40ec-880e-356c3daa088c",
   "metadata": {},
   "source": [
    "### Variável 'Usage Frequency'"
   ]
  },
  {
   "cell_type": "code",
   "execution_count": null,
   "id": "6d2a026b-3960-4616-98e9-121f15bcb830",
   "metadata": {},
   "outputs": [],
   "source": [
    "px.box(train, x = 'Usage Frequency', color = 'Churn')"
   ]
  },
  {
   "cell_type": "markdown",
   "id": "beace4f0-0fa4-4988-99b9-190d1264593b",
   "metadata": {},
   "source": [
    "- É visualizado que pessoas que cancelam o serviço tem uma média de uso menor que as pessoas que utilizam."
   ]
  },
  {
   "cell_type": "markdown",
   "id": "1af64eba-cb1c-48e7-a2ec-a5b7917f2687",
   "metadata": {},
   "source": [
    "### Variável 'Support Calls'"
   ]
  },
  {
   "cell_type": "code",
   "execution_count": null,
   "id": "55a0741c-0333-4eb3-91cc-bcd223a6a602",
   "metadata": {},
   "outputs": [],
   "source": [
    "px.box(train, x = 'Support Calls', color = 'Churn')"
   ]
  },
  {
   "cell_type": "markdown",
   "id": "40cb7a12-72df-4315-b547-d7967c68da02",
   "metadata": {},
   "source": [
    "- Uma informação importante é que as pessoas que cancelam o serviço realizam, em média, mais ligações de suporte que as pessoas que não cancelam."
   ]
  },
  {
   "cell_type": "code",
   "execution_count": null,
   "id": "2ef5c686-e37c-48ac-9973-76d5dd0b7ed3",
   "metadata": {},
   "outputs": [],
   "source": [
    "plt.figure(figsize=(10,5))\n",
    "sns.boxplot(x='Churn', y = 'Support Calls', data=train)\n",
    "plt.title('Support Calls vs Churn')\n",
    "plt.xlabel('Churn (0 = No, 1 = Yes)')\n",
    "plt.show()"
   ]
  },
  {
   "cell_type": "markdown",
   "id": "1a42ea83-1361-4946-a5d7-f52058bf68a0",
   "metadata": {},
   "source": [
    "### Variável 'Payment Delay'"
   ]
  },
  {
   "cell_type": "code",
   "execution_count": null,
   "id": "05b744f2-5d5a-4907-a7d8-5cf1914a0cb5",
   "metadata": {},
   "outputs": [],
   "source": [
    "px.box(train, x = 'Payment Delay', color = 'Churn')"
   ]
  },
  {
   "cell_type": "markdown",
   "id": "006ce3de-aae6-4c56-832c-1afb132eb7be",
   "metadata": {},
   "source": [
    "### Variável \"Total Spend\""
   ]
  },
  {
   "cell_type": "code",
   "execution_count": null,
   "id": "d319036d-2dfe-476b-b821-136b70a3f7db",
   "metadata": {},
   "outputs": [],
   "source": [
    "px.box(train, x = 'Total Spend', color = 'Churn')"
   ]
  },
  {
   "cell_type": "markdown",
   "id": "605a9138-1c84-4432-843d-29290841541b",
   "metadata": {},
   "source": [
    "# Pré-processamento dos dados"
   ]
  },
  {
   "cell_type": "code",
   "execution_count": null,
   "id": "6c1d9ec0-5502-40b8-b867-1eaf8a7f101c",
   "metadata": {},
   "outputs": [],
   "source": [
    "train.head()"
   ]
  },
  {
   "cell_type": "code",
   "execution_count": null,
   "id": "ebfbb562-99e8-4886-956a-891e40fc3d6f",
   "metadata": {},
   "outputs": [],
   "source": [
    "variavel_categoricas = ['Gender', 'Subscription Type', 'Contract Length']"
   ]
  },
  {
   "cell_type": "code",
   "execution_count": null,
   "id": "9e33a697-1492-4c90-81fe-60c051b59868",
   "metadata": {},
   "outputs": [],
   "source": [
    "# Preprocessamento do dados\n",
    "encoder = OneHotEncoder(drop='if_binary')\n",
    "\n",
    "df_categorico = train[variavel_categoricas]\n",
    "\n",
    "df_encoded = pd.DataFrame(encoder.fit_transform(df_categorico).toarray(),\n",
    "                         columns=encoder.get_feature_names_out(variavel_categoricas))\n",
    "\n",
    "# Unindo os dataframes\n",
    "df_final = pd.concat([train.drop(variavel_categoricas, axis=1), df_encoded], axis=1)"
   ]
  },
  {
   "cell_type": "code",
   "execution_count": null,
   "id": "bac34532-c2e6-4401-959e-488b131a97a9",
   "metadata": {},
   "outputs": [],
   "source": [
    "df_final = df_final.drop(199295)\n",
    "df_final = df_final.drop(440832)"
   ]
  },
  {
   "cell_type": "code",
   "execution_count": null,
   "id": "42f4760f-5363-4c5b-b9de-52c0c567e3e6",
   "metadata": {},
   "outputs": [],
   "source": [
    "df_final[df_final.isnull().any(axis=1)]"
   ]
  },
  {
   "cell_type": "markdown",
   "id": "008e5de4-5206-4334-91f4-712eb4135e0d",
   "metadata": {},
   "source": [
    "# Divisão em Treino e Teste"
   ]
  },
  {
   "cell_type": "code",
   "execution_count": null,
   "id": "bf8332f9-60aa-4494-adee-ae616d986c98",
   "metadata": {},
   "outputs": [],
   "source": [
    "df_final.head()"
   ]
  },
  {
   "cell_type": "code",
   "execution_count": null,
   "id": "06b11783-9195-4e69-9633-5d0270743f1b",
   "metadata": {},
   "outputs": [],
   "source": [
    "# Removendo a coluna target do conjunto de treino\n",
    "X = df_final.drop('Churn', axis=1)\n",
    "y = df_final['Churn']"
   ]
  },
  {
   "cell_type": "code",
   "execution_count": null,
   "id": "bebcfd66-8502-406f-949d-6e5f7f86a476",
   "metadata": {},
   "outputs": [],
   "source": [
    "# Utilização no final do projeto\n",
    "X, X_teste, y, y_teste = train_test_split(X, y, test_size = 0.15, stratify=y, random_state=0)\n",
    "\n",
    "# Separação em treino e Validação\n",
    "# X e y utilizado na parte de cima\n",
    "X_treino, X_val, y_treino, y_val = train_test_split(X, y, stratify=y, random_state=0)"
   ]
  },
  {
   "cell_type": "markdown",
   "id": "5d2bc934-533e-4fab-9f81-97dd718a418d",
   "metadata": {},
   "source": [
    "# Treinamento dos Modelos"
   ]
  },
  {
   "cell_type": "markdown",
   "id": "5cf5a1fd-ff9b-4144-b0e3-e9f2d4a84a56",
   "metadata": {},
   "source": [
    "## Árvore de Decisão"
   ]
  },
  {
   "cell_type": "markdown",
   "id": "f421f80a-85cb-4b57-8c18-5d1adae59174",
   "metadata": {},
   "source": [
    "### Treinando o modelo de árvore de decisão"
   ]
  },
  {
   "cell_type": "code",
   "execution_count": null,
   "id": "751821a4-d071-46e8-8960-533a097688a9",
   "metadata": {},
   "outputs": [],
   "source": [
    "nome_colunas = [\n",
    "    'Male',\n",
    "    'Basic',\n",
    "    'Premium',\n",
    "    'Standard',\n",
    "    'Annual',\n",
    "    'Monthly',\n",
    "    'Quarterly',\n",
    "    'Age',\n",
    "    'Tenure',\n",
    "    'Usage Frequency',\n",
    "    'Support Calls',\n",
    "    'Payment Delay',\n",
    "    'Total Spend',\n",
    "    'Last Interaction']"
   ]
  },
  {
   "cell_type": "code",
   "execution_count": null,
   "id": "dcd76781-ebd7-4495-8db4-92331b474a3a",
   "metadata": {},
   "outputs": [],
   "source": [
    "arvore = DecisionTreeClassifier(max_depth=3, random_state=5)\n",
    "arvore.fit(X_treino, y_treino)\n",
    "\n",
    "# Fazendo previsoes\n",
    "y_pred = arvore.predict(X_val)\n",
    "\n",
    "print(f'Acurácia de treino: {arvore.score(X_treino, y_treino)}')\n",
    "print(f'Acurácia de validação: {arvore.score(X_val, y_val)}')"
   ]
  },
  {
   "cell_type": "code",
   "execution_count": null,
   "id": "293e2855-ae37-4f1f-a06b-dd05647acc6c",
   "metadata": {},
   "outputs": [],
   "source": [
    "# Plotando a árvore\n",
    "plt.figure(figsize=(15,6))\n",
    "plot_tree(arvore, filled = True, class_names = ['não', 'sim'], fontsize = 7, feature_names = nome_colunas);"
   ]
  },
  {
   "cell_type": "markdown",
   "id": "27a80f45-3b24-4bf2-b343-dd252bb151a7",
   "metadata": {},
   "source": [
    "### Avaliando o desempenho do modelo"
   ]
  },
  {
   "cell_type": "code",
   "execution_count": null,
   "id": "0961364d-a661-48b8-873e-5123260915ae",
   "metadata": {},
   "outputs": [],
   "source": [
    "print(f'Acurácia do modelo: {(arvore.score(X_teste, y_teste))}')"
   ]
  },
  {
   "cell_type": "code",
   "execution_count": null,
   "id": "5c869105-a2d0-4bca-8000-32f9142ec2c5",
   "metadata": {},
   "outputs": [],
   "source": [
    "matriz_confusao = confusion_matrix(y_val, y_pred)"
   ]
  },
  {
   "cell_type": "code",
   "execution_count": null,
   "id": "b1cd0f1f-51b6-4c08-aea0-6fe51b78b47c",
   "metadata": {},
   "outputs": [],
   "source": [
    "visualizacao = ConfusionMatrixDisplay(confusion_matrix=matriz_confusao, display_labels=arvore.classes_)\n",
    "visualizacao.plot();"
   ]
  },
  {
   "cell_type": "code",
   "execution_count": null,
   "id": "2288c8c7-95e7-42ec-b583-e3a168ba3c62",
   "metadata": {},
   "outputs": [],
   "source": [
    "# Melhorando a visualização da matriz de confusão\n",
    "visualizacao = ConfusionMatrixDisplay(confusion_matrix=matriz_confusao, display_labels = ['Não Churn', 'Churn'])\n",
    "visualizacao.plot();"
   ]
  },
  {
   "cell_type": "code",
   "execution_count": null,
   "id": "8e38ef03-1595-4756-8a06-7b9e6ca9cb70",
   "metadata": {},
   "outputs": [],
   "source": [
    "ConfusionMatrixDisplay.from_predictions(y_val, y_pred, normalize='true', cmap = 'Blues');"
   ]
  },
  {
   "cell_type": "markdown",
   "id": "3352b709-a8af-4ed2-9bc8-b0ae736344bc",
   "metadata": {},
   "source": [
    "### Relatório de métricas"
   ]
  },
  {
   "cell_type": "code",
   "execution_count": null,
   "id": "f0997909-331e-4114-95b4-c8175f99b421",
   "metadata": {},
   "outputs": [],
   "source": [
    "print(classification_report(y_val, y_pred))"
   ]
  },
  {
   "cell_type": "markdown",
   "id": "e9333e5d-1b31-4f75-9fe0-b9cef1ba1639",
   "metadata": {},
   "source": [
    "## Random Forest"
   ]
  },
  {
   "cell_type": "code",
   "execution_count": null,
   "id": "9f63cac9-3987-4c61-b45a-bae35e618747",
   "metadata": {},
   "outputs": [],
   "source": [
    "modelo_rf = RandomForestClassifier(random_state=0)\n",
    "modelo_rf.fit(X_treino, y_treino)\n",
    "\n",
    "# Fazendo previsões\n",
    "y_pred = modelo_rf.predict(X_val)\n",
    "\n",
    "print(f'Acurácia de treino: {modelo_rf.score(X_treino, y_treino)}')\n",
    "print(f'Acurácia de validação: {modelo_rf.score(X_val, y_val)}')"
   ]
  },
  {
   "cell_type": "code",
   "execution_count": null,
   "id": "fd52d5bb-1817-46b2-8fb6-a98cecda27a8",
   "metadata": {},
   "outputs": [],
   "source": [
    "# Ajustando alguns hiperparâmetros\n",
    "modelo_rf = RandomForestClassifier(random_state=0, max_depth=10)\n",
    "modelo_rf.fit(X_treino, y_treino)\n",
    "# Fazendo previsões\n",
    "y_pred = modelo_rf.predict(X_val)\n",
    "\n",
    "print(f'Acurácia de treino: {modelo_rf.score(X_treino, y_treino)}')\n",
    "print(f'Acurácia de validação: {modelo_rf.score(X_val, y_val)}')"
   ]
  },
  {
   "cell_type": "markdown",
   "id": "72a762de-60c2-4dff-be88-61b051cf5dd5",
   "metadata": {},
   "source": [
    "### Avaliando o modelo"
   ]
  },
  {
   "cell_type": "code",
   "execution_count": null,
   "id": "d4746123-6eea-4929-a630-989ee2bcdb66",
   "metadata": {},
   "outputs": [],
   "source": [
    "matriz_confusao = confusion_matrix(y_val, y_pred)"
   ]
  },
  {
   "cell_type": "code",
   "execution_count": null,
   "id": "598ba752-5883-4dc1-8c9e-cb02595d4999",
   "metadata": {},
   "outputs": [],
   "source": [
    "visualizacao = ConfusionMatrixDisplay(confusion_matrix=matriz_confusao)\n",
    "visualizacao.plot();"
   ]
  },
  {
   "cell_type": "markdown",
   "id": "bf1b81cb-8e6e-4f7e-8591-bd0f30bf1209",
   "metadata": {},
   "source": [
    "### Relatório de métricas"
   ]
  },
  {
   "cell_type": "code",
   "execution_count": null,
   "id": "7552b99c-91cb-402b-a7b3-68bd091c29e0",
   "metadata": {},
   "outputs": [],
   "source": [
    "report = classification_report(y_val, y_pred)\n",
    "print('Relatório de Classificação:\\n', report)"
   ]
  },
  {
   "cell_type": "markdown",
   "id": "c5fdfdaa-7433-4426-805d-3551d26c29ec",
   "metadata": {},
   "source": [
    "# Balanceando os dados"
   ]
  },
  {
   "cell_type": "code",
   "execution_count": null,
   "id": "9d046fd9-78a7-4d01-942a-2df77d0b14d3",
   "metadata": {},
   "outputs": [],
   "source": [
    "y_treino.value_counts()"
   ]
  },
  {
   "cell_type": "code",
   "execution_count": null,
   "id": "cc4b6cf0-5be1-4978-9102-dfb5b962271b",
   "metadata": {},
   "outputs": [],
   "source": [
    "oversample = SMOTE(random_state=0)\n",
    "\n",
    "# Balanceamento dos dados na base de treino\n",
    "X_balanceado, y_balanceado = oversample.fit_resample(X_treino, y_treino)"
   ]
  },
  {
   "cell_type": "code",
   "execution_count": null,
   "id": "4e029141-44f8-4e03-8859-e3f3ded61c9f",
   "metadata": {},
   "outputs": [],
   "source": [
    "y_balanceado.value_counts()"
   ]
  },
  {
   "cell_type": "code",
   "execution_count": null,
   "id": "18c5bf4f-564b-4830-b94d-aa30e2c2da86",
   "metadata": {},
   "outputs": [],
   "source": [
    "# Treinando o modelo de Random Forest com os dados balanceados\n",
    "modelo = RandomForestClassifier(random_state=0, max_depth=10)\n",
    "modelo.fit(X_balanceado, y_balanceado)\n",
    "y_pred = modelo.predict(X_val)"
   ]
  },
  {
   "cell_type": "code",
   "execution_count": null,
   "id": "e6581753-7ef7-4d97-add2-14e6c53b8cff",
   "metadata": {},
   "outputs": [],
   "source": [
    "print(classification_report(y_val, y_pred))\n",
    "ConfusionMatrixDisplay.from_predictions(y_val, y_pred, normalize='true', cmap='Blues');"
   ]
  },
  {
   "cell_type": "markdown",
   "id": "7d64cdec-8f6d-4a54-910e-a182f28180bd",
   "metadata": {},
   "source": [
    "# Realizando a validação cruzada"
   ]
  },
  {
   "cell_type": "code",
   "execution_count": null,
   "id": "862c0c5f-fd0c-4130-b589-e8d903e369d9",
   "metadata": {},
   "outputs": [],
   "source": [
    "modelo = RandomForestClassifier(max_depth=10)\n",
    "pipeline = imbpipeline([('oversample', SMOTE()), ('floresta', modelo)]) # Etapas do pipeline"
   ]
  },
  {
   "cell_type": "code",
   "execution_count": null,
   "id": "c93ea794-6366-4857-a232-cdb4826e841d",
   "metadata": {},
   "outputs": [],
   "source": [
    "from sklearn.model_selection import cross_validate, StratifiedKFold"
   ]
  },
  {
   "cell_type": "code",
   "execution_count": null,
   "id": "5363fe25-3f5e-46c3-a62a-2914660def61",
   "metadata": {},
   "outputs": [],
   "source": [
    "skf = StratifiedKFold(n_splits=5, shuffle=True, random_state=0)\n",
    "cv_resultados = cross_validate(pipeline, X, y, cv=skf, scoring='recall_weighted')\n",
    "cv_resultados['test_score']"
   ]
  },
  {
   "cell_type": "code",
   "execution_count": null,
   "id": "b2bf40c9-3edd-4eb3-8f88-3f2ab59c081a",
   "metadata": {},
   "outputs": [],
   "source": [
    "# Criando um intervalo de confiança\n",
    "media = cv_resultados['test_score'].mean()\n",
    "desvio_padrao = cv_resultados['test_score'].std()\n",
    "print(f'Intervalo de confiança: [{media - 2 * desvio_padrao}, {min(media + 2 * desvio_padrao, 1.0)}]')"
   ]
  },
  {
   "cell_type": "markdown",
   "id": "b8e92bba-85e2-47da-b791-e58c080c9dc2",
   "metadata": {},
   "source": [
    "# Usando dados de teste"
   ]
  },
  {
   "cell_type": "code",
   "execution_count": null,
   "id": "d2e3838f-42a6-45bc-a7fa-4c959be1d4cf",
   "metadata": {},
   "outputs": [],
   "source": [
    "oversample = SMOTE(random_state=0)\n",
    "X_balanceado, y_balanceado = oversample.fit_resample(X, y)\n",
    "modelo = RandomForestClassifier(random_state=0, max_depth=10)\n",
    "modelo.fit(X_balanceado, y_balanceado)\n",
    "y_pred = modelo.predict(X_teste)\n",
    "\n",
    "print(classification_report(y_teste, y_pred))\n",
    "ConfusionMatrixDisplay.from_predictions(y_teste, y_pred, normalize='true', cmap='Blues');"
   ]
  },
  {
   "cell_type": "markdown",
   "id": "76b14644-e0a2-4cf4-9c74-35bb3177c02d",
   "metadata": {},
   "source": [
    "# Conclusão"
   ]
  },
  {
   "cell_type": "code",
   "execution_count": null,
   "id": "c108a837-625b-40e4-bf7e-f6132c47a944",
   "metadata": {},
   "outputs": [],
   "source": [
    "print(f'Acurácia do modelo de árvore: {arvore.score(X_val, y_val)}')\n",
    "print(f'Acurácia do modelo de RandomForest: {modelo_rf.score(X_val, y_val)}')"
   ]
  },
  {
   "cell_type": "code",
   "execution_count": null,
   "id": "8a5ed0a9-5797-41e6-ac44-831742469838",
   "metadata": {},
   "outputs": [],
   "source": []
  }
 ],
 "metadata": {
  "kernelspec": {
   "display_name": "Python 3 (ipykernel)",
   "language": "python",
   "name": "python3"
  },
  "language_info": {
   "codemirror_mode": {
    "name": "ipython",
    "version": 3
   },
   "file_extension": ".py",
   "mimetype": "text/x-python",
   "name": "python",
   "nbconvert_exporter": "python",
   "pygments_lexer": "ipython3",
   "version": "3.12.7"
  }
 },
 "nbformat": 4,
 "nbformat_minor": 5
}
